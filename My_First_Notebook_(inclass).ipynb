{
  "nbformat": 4,
  "nbformat_minor": 0,
  "metadata": {
    "colab": {
      "name": "My First Notebook (inclass)",
      "provenance": [],
      "authorship_tag": "ABX9TyOoTev06nZFWIl9VYvh5nq7",
      "include_colab_link": true
    },
    "kernelspec": {
      "name": "python3",
      "display_name": "Python 3"
    }
  },
  "cells": [
    {
      "cell_type": "markdown",
      "metadata": {
        "id": "view-in-github",
        "colab_type": "text"
      },
      "source": [
        "<a href=\"https://colab.research.google.com/github/ZiannaS/my-notebooks-inclass/blob/main/My_First_Notebook_(inclass).ipynb\" target=\"_parent\"><img src=\"https://colab.research.google.com/assets/colab-badge.svg\" alt=\"Open In Colab\"/></a>"
      ]
    },
    {
      "cell_type": "code",
      "metadata": {
        "colab": {
          "base_uri": "https://localhost:8080/"
        },
        "id": "KCs5NWzfTE3x",
        "outputId": "88ffdc30-7c38-47ce-f141-71eb9671618e"
      },
      "source": [
        "# This is some example python code\n",
        "# These lines starting with # are \"comments\"\n",
        "# Don't be confused that # means something different in .md files than .py files\n",
        "\n",
        "print(\"HELLO WORLD!\")\n",
        "\n",
        "x = 2 + 2\n",
        "print(x)"
      ],
      "execution_count": 1,
      "outputs": [
        {
          "output_type": "stream",
          "text": [
            "HELLO WORLD!\n",
            "4\n"
          ],
          "name": "stdout"
        }
      ]
    },
    {
      "cell_type": "markdown",
      "metadata": {
        "id": "ErRREKScT8di"
      },
      "source": [
        "Some text in a text cell"
      ]
    },
    {
      "cell_type": "markdown",
      "metadata": {
        "id": "acVhcORqU6P-"
      },
      "source": [
        "# My First Notebook!\n",
        "\n",
        "This is a text cell. It uses the markdown language. The line above is a heading, starting with the # sign. Don't be confused that # means something different in .md and .py files.\n",
        "\n",
        "We can make links like [this](https://github.com/prof-rossetti/intro-to-python).\n",
        "\n",
        "And lists too:\n",
        "\n",
        "  + Item 1\n",
        "  + Item 2\n",
        "  + Item 3\n",
        "\n",
        "For more information about Markdown syntax, see the [Markdown Guide](https://guides.github.com/pdfs/markdown-cheatsheet-online.pdf)."
      ]
    },
    {
      "cell_type": "code",
      "metadata": {
        "colab": {
          "base_uri": "https://localhost:8080/",
          "height": 147
        },
        "id": "wEbkvPxHUH5I",
        "outputId": "d8911806-54f6-4eb6-8f3b-700d36802019"
      },
      "source": [
        "# My First Notebook!\n",
        "\n",
        "This is a text cell. It uses the markdown language. The line above is a heading, starting with the # sign. Don't be confused that # means something different in .md and .py files.\n",
        "\n",
        "We can make links like [this](https://github.com/prof-rossetti/intro-to-python).\n",
        "\n",
        "And lists too:\n",
        "\n",
        "  + Item 1\n",
        "  + Item 2\n",
        "  + Item 3\n",
        "\n",
        "For more information about Markdown syntax, see the [Markdown Guide](https://guides.github.com/pdfs/markdown-cheatsheet-online.pdf)."
      ],
      "execution_count": 2,
      "outputs": [
        {
          "output_type": "error",
          "ename": "SyntaxError",
          "evalue": "ignored",
          "traceback": [
            "\u001b[0;36m  File \u001b[0;32m\"<ipython-input-2-d9a4be3ab74b>\"\u001b[0;36m, line \u001b[0;32m3\u001b[0m\n\u001b[0;31m    This is a text cell. It uses the markdown language. The line above is a heading, starting with the # sign. Don't be confused that # means something different in .md and .py files.\u001b[0m\n\u001b[0m                 ^\u001b[0m\n\u001b[0;31mSyntaxError\u001b[0m\u001b[0;31m:\u001b[0m invalid syntax\n"
          ]
        }
      ]
    }
  ]
}